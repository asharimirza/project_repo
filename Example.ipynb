{
 "cells": [
  {
   "cell_type": "code",
   "execution_count": 2,
   "id": "bc862ece-7219-4981-b8f5-b8ff6d48cb29",
   "metadata": {},
   "outputs": [
    {
     "name": "stdout",
     "output_type": "stream",
     "text": [
      "Hallo Dunia Tipu-Tipu\n"
     ]
    }
   ],
   "source": [
    "print(\"Hallo Dunia Tipu-Tipu\")"
   ]
  },
  {
   "cell_type": "code",
   "execution_count": null,
   "id": "89a8be0e-ae8a-4d3d-975a-fc2486f71d2e",
   "metadata": {},
   "outputs": [],
   "source": []
  }
 ],
 "metadata": {
  "kernelspec": {
   "display_name": "Python 3 (ipykernel)",
   "language": "python",
   "name": "python3"
  },
  "language_info": {
   "codemirror_mode": {
    "name": "ipython",
    "version": 3
   },
   "file_extension": ".py",
   "mimetype": "text/x-python",
   "name": "python",
   "nbconvert_exporter": "python",
   "pygments_lexer": "ipython3",
   "version": "3.9.12"
  }
 },
 "nbformat": 4,
 "nbformat_minor": 5
}
